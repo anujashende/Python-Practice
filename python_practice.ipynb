{
  "cells": [
    {
      "cell_type": "markdown",
      "metadata": {
        "id": "view-in-github",
        "colab_type": "text"
      },
      "source": [
        "<a href=\"https://colab.research.google.com/github/anujashende/Python-Practice/blob/main/python_practice.ipynb\" target=\"_parent\"><img src=\"https://colab.research.google.com/assets/colab-badge.svg\" alt=\"Open In Colab\"/></a>"
      ]
    },
    {
      "cell_type": "code",
      "execution_count": null,
      "metadata": {
        "id": "Ol5k5m9zEX-B",
        "colab": {
          "base_uri": "https://localhost:8080/"
        },
        "outputId": "479ad6b7-adf4-4f19-bc05-df0b61956898"
      },
      "outputs": [
        {
          "output_type": "stream",
          "name": "stdout",
          "text": [
            "2 4 6 8 10 12 14 16 "
          ]
        }
      ],
      "source": [
        "count = 1\n",
        "while(True):\n",
        "  if count % 2== 0 :\n",
        "      print(count, end=\" \")\n",
        "  if(count>16):\n",
        "      break;\n",
        "  count+=1\n"
      ]
    },
    {
      "cell_type": "code",
      "source": [
        "i=1\n",
        "while (True):\n",
        "  if i%3 == 0:\n",
        "    print(i,end=\" \")\n",
        "  if(i>24): \n",
        "    break;\n",
        "  i+=1"
      ],
      "metadata": {
        "id": "yKZxAW22OlSR",
        "colab": {
          "base_uri": "https://localhost:8080/"
        },
        "outputId": "6d073c88-aede-4504-c409-e112e59bdf0f"
      },
      "execution_count": null,
      "outputs": [
        {
          "output_type": "stream",
          "name": "stdout",
          "text": [
            "3 6 9 12 15 18 21 24 "
          ]
        }
      ]
    },
    {
      "cell_type": "code",
      "source": [
        "i=1\n",
        "while (True):\n",
        "  if i%3 == 0:\n",
        "    print(i,end=\" \")\n",
        "  if (i>18):  \n",
        "    break;\n",
        "  i+=1"
      ],
      "metadata": {
        "colab": {
          "base_uri": "https://localhost:8080/"
        },
        "id": "9zPrhnzQnsug",
        "outputId": "5d48193d-02ca-4734-9aab-c0da1a194f7b"
      },
      "execution_count": null,
      "outputs": [
        {
          "output_type": "stream",
          "name": "stdout",
          "text": [
            "3 6 9 12 15 18 "
          ]
        }
      ]
    },
    {
      "cell_type": "code",
      "source": [
        "count = 3\n",
        "while(True):\n",
        "  if count % 2== 0:\n",
        "    print(count,end=\" \")\n",
        "  if (count>18):\n",
        "    break;\n",
        "  count+=1"
      ],
      "metadata": {
        "colab": {
          "base_uri": "https://localhost:8080/"
        },
        "id": "PZc7y5m8juMX",
        "outputId": "33918a43-c1fc-406c-8a0a-e4db228fba80"
      },
      "execution_count": null,
      "outputs": [
        {
          "output_type": "stream",
          "name": "stdout",
          "text": [
            "4 6 8 10 12 14 16 18 "
          ]
        }
      ]
    },
    {
      "cell_type": "code",
      "execution_count": null,
      "metadata": {
        "id": "qa41qT9dNDC0",
        "colab": {
          "base_uri": "https://localhost:8080/"
        },
        "outputId": "dfd7a8e4-23c3-4386-f9eb-1499c73d4bf6"
      },
      "outputs": [
        {
          "output_type": "stream",
          "name": "stdout",
          "text": [
            "20\n"
          ]
        }
      ],
      "source": [
        "def solve (a,b):\n",
        "    return b if a == 0 else solve(b%a,a)\n",
        "print(solve(60, 20))"
      ]
    },
    {
      "cell_type": "code",
      "execution_count": null,
      "metadata": {
        "id": "1oJDtgJmOG4N",
        "colab": {
          "base_uri": "https://localhost:8080/"
        },
        "outputId": "4f547576-b300-402a-d6fc-e8c02d0866bf"
      },
      "outputs": [
        {
          "output_type": "stream",
          "name": "stdout",
          "text": [
            "30\n"
          ]
        }
      ],
      "source": [
        "a=30\n",
        "b=30\n",
        "print(solve(b%a,a))"
      ]
    },
    {
      "cell_type": "code",
      "execution_count": null,
      "metadata": {
        "id": "gLquJZxiOOJR",
        "colab": {
          "base_uri": "https://localhost:8080/"
        },
        "outputId": "cec3a2a4-4cc6-4d7b-d111-be961ba6876f"
      },
      "outputs": [
        {
          "output_type": "execute_result",
          "data": {
            "text/plain": [
              "8"
            ]
          },
          "metadata": {},
          "execution_count": 2
        }
      ],
      "source": [
        "3+5"
      ]
    },
    {
      "cell_type": "code",
      "execution_count": null,
      "metadata": {
        "id": "4U4_A1oMVbRG",
        "colab": {
          "base_uri": "https://localhost:8080/"
        },
        "outputId": "cade9024-046f-4e6a-f036-62829e73a100"
      },
      "outputs": [
        {
          "output_type": "stream",
          "name": "stdout",
          "text": [
            "hello\n"
          ]
        }
      ],
      "source": [
        "print(\"hello\")"
      ]
    },
    {
      "cell_type": "code",
      "execution_count": null,
      "metadata": {
        "id": "EvKFZN9DVpm6",
        "colab": {
          "base_uri": "https://localhost:8080/"
        },
        "outputId": "411d211c-4cb4-44c6-e227-becec5a0d1cc"
      },
      "outputs": [
        {
          "output_type": "execute_result",
          "data": {
            "text/plain": [
              "58.333333333333336"
            ]
          },
          "metadata": {},
          "execution_count": 4
        }
      ],
      "source": [
        "(45+60+70)/3"
      ]
    },
    {
      "cell_type": "code",
      "execution_count": null,
      "metadata": {
        "id": "-M9dCNCIVp57"
      },
      "outputs": [],
      "source": [
        "m1=45\n",
        "m2=60\n",
        "m3=70"
      ]
    },
    {
      "cell_type": "code",
      "execution_count": null,
      "metadata": {
        "id": "2iX33w-oVp8O",
        "colab": {
          "base_uri": "https://localhost:8080/"
        },
        "outputId": "5e1cf08e-1b08-4f86-961f-c50dfdfd4844"
      },
      "outputs": [
        {
          "output_type": "execute_result",
          "data": {
            "text/plain": [
              "58.333333333333336"
            ]
          },
          "metadata": {},
          "execution_count": 6
        }
      ],
      "source": [
        "(m1+m2+m3)/3"
      ]
    },
    {
      "cell_type": "code",
      "execution_count": null,
      "metadata": {
        "id": "X0S9dACBVp_0"
      },
      "outputs": [],
      "source": [
        "age=25\n",
        "first_name='Anuja'"
      ]
    },
    {
      "cell_type": "code",
      "execution_count": null,
      "metadata": {
        "id": "5lJ_B1w0V3P_",
        "colab": {
          "base_uri": "https://localhost:8080/"
        },
        "outputId": "f396bd6e-d311-4768-a995-78370d38f437"
      },
      "outputs": [
        {
          "output_type": "stream",
          "name": "stdout",
          "text": [
            "25\n",
            "Anuja\n"
          ]
        }
      ],
      "source": [
        "age = 25\n",
        "first_name = 'Anuja'\n",
        "print(age)\n",
        "print(first_name)"
      ]
    },
    {
      "cell_type": "code",
      "execution_count": null,
      "metadata": {
        "id": "smaa7Ct0V96A",
        "colab": {
          "base_uri": "https://localhost:8080/"
        },
        "outputId": "766287ee-2c44-415d-bb99-cfcc5b27bedc"
      },
      "outputs": [
        {
          "output_type": "stream",
          "name": "stdout",
          "text": [
            "Anuja 25\n"
          ]
        }
      ],
      "source": [
        "print(first_name,age)"
      ]
    },
    {
      "cell_type": "code",
      "execution_count": null,
      "metadata": {
        "id": "hiLPzZBBWFFX",
        "colab": {
          "base_uri": "https://localhost:8080/"
        },
        "outputId": "c15074d0-efc4-4c59-89aa-534ae31eb758"
      },
      "outputs": [
        {
          "output_type": "stream",
          "name": "stdout",
          "text": [
            "my name is Anuja and I am of 25 years age.\n"
          ]
        }
      ],
      "source": [
        "print(\"my name is\",first_name,\"and I am of\", age,\"years age.\")"
      ]
    },
    {
      "cell_type": "code",
      "execution_count": null,
      "metadata": {
        "id": "IZfAU8XuWZec",
        "colab": {
          "base_uri": "https://localhost:8080/"
        },
        "outputId": "426df4c7-6bb7-4594-9d14-151c1f30facd"
      },
      "outputs": [
        {
          "output_type": "stream",
          "name": "stdout",
          "text": [
            "[1, 2, 1, 2, 1, 2]\n"
          ]
        }
      ],
      "source": [
        "a=[1,2]\n",
        "print(a*3)"
      ]
    },
    {
      "cell_type": "code",
      "execution_count": null,
      "metadata": {
        "id": "MMN-yB83WFX6",
        "colab": {
          "base_uri": "https://localhost:8080/"
        },
        "outputId": "15d52d6e-068e-4bbf-b392-043e56091b91"
      },
      "outputs": [
        {
          "output_type": "stream",
          "name": "stdout",
          "text": [
            "[2, 4, 7, 19, 22, 45, 72, 89]\n"
          ]
        }
      ],
      "source": [
        "numbers = (4, 7, 19, 2, 89, 45, 72, 22)\n",
        "sorted_numbers = sorted(numbers)\n",
        "print(sorted_numbers)"
      ]
    },
    {
      "cell_type": "code",
      "source": [
        "numbers= (3,10,20,25,28,32,35,22)\n",
        "sorted_numbers = sorted(numbers)\n",
        "print(sorted_numbers)"
      ],
      "metadata": {
        "colab": {
          "base_uri": "https://localhost:8080/"
        },
        "id": "zH4NrddQrgQl",
        "outputId": "5da1e968-99a0-4ce0-bd62-5a4f18036eb2"
      },
      "execution_count": null,
      "outputs": [
        {
          "output_type": "stream",
          "name": "stdout",
          "text": [
            "[3, 10, 20, 22, 25, 28, 32, 35]\n"
          ]
        }
      ]
    },
    {
      "cell_type": "code",
      "execution_count": null,
      "metadata": {
        "id": "EHyAiAc5V3b1",
        "colab": {
          "base_uri": "https://localhost:8080/"
        },
        "outputId": "a159663f-3242-4d7b-dbcf-d2e6eb8094e4"
      },
      "outputs": [
        {
          "output_type": "stream",
          "name": "stdout",
          "text": [
            "2\n"
          ]
        }
      ],
      "source": [
        "a = [1, 2, 3]\n",
        "a = tuple(a)\n",
        "a=2\n",
        "print(a)\n",
        "\n",
        "\n",
        "\n",
        "\n"
      ]
    },
    {
      "cell_type": "code",
      "execution_count": null,
      "metadata": {
        "id": "vWrAd55Bit5f",
        "colab": {
          "base_uri": "https://localhost:8080/"
        },
        "outputId": "4b82236c-86f4-4462-f868-4668648516af"
      },
      "outputs": [
        {
          "output_type": "stream",
          "name": "stdout",
          "text": [
            "(1, 2, 3)\n"
          ]
        }
      ],
      "source": [
        "def solve(a):\n",
        "   a = [1, 3, 5]\n",
        "solve(a)\n",
        "print(a)"
      ]
    },
    {
      "cell_type": "code",
      "execution_count": null,
      "metadata": {
        "id": "76nLTbPYi_G6",
        "colab": {
          "base_uri": "https://localhost:8080/"
        },
        "outputId": "715fa59a-1dc9-492a-e007-e643198facf0"
      },
      "outputs": [
        {
          "output_type": "execute_result",
          "data": {
            "text/plain": [
              "11"
            ]
          },
          "metadata": {},
          "execution_count": 13
        }
      ],
      "source": [
        "a=5\n",
        "a+=6\n",
        "a"
      ]
    },
    {
      "cell_type": "code",
      "execution_count": null,
      "metadata": {
        "id": "GFeT20YAcYhH",
        "colab": {
          "base_uri": "https://localhost:8080/"
        },
        "outputId": "68247d8c-293f-4bab-db84-0e837ae2f41e"
      },
      "outputs": [
        {
          "output_type": "stream",
          "name": "stdout",
          "text": [
            "False\n",
            "True\n",
            "False\n"
          ]
        }
      ],
      "source": [
        "x1= 5\n",
        "y1= 5\n",
        "x2= 'hello'\n",
        "y2= 'hello'\n",
        "x3= [1,2,3]\n",
        "y3= [1,2,3]\n",
        "print(x1 is not y1)\n",
        "print(x2 is y2)\n",
        "print(x3 is y3)"
      ]
    },
    {
      "cell_type": "code",
      "execution_count": null,
      "metadata": {
        "id": "pHjAkb50caUj"
      },
      "outputs": [],
      "source": [
        "x='Hello world'\n",
        "y= {1:'a',2:'b'}\n",
        "print('H' in x)\n",
        "print('Hello'not in y)\n",
        "print(1 in y)\n",
        "print('a' in y)"
      ]
    },
    {
      "cell_type": "code",
      "execution_count": null,
      "metadata": {
        "id": "skangr0leuz1",
        "colab": {
          "base_uri": "https://localhost:8080/"
        },
        "outputId": "2d149fb3-ae7d-476c-e42f-ab28a5d09b06"
      },
      "outputs": [
        {
          "output_type": "execute_result",
          "data": {
            "text/plain": [
              "2"
            ]
          },
          "metadata": {},
          "execution_count": 1
        }
      ],
      "source": [
        "a=2\n",
        "a"
      ]
    },
    {
      "cell_type": "code",
      "execution_count": null,
      "metadata": {
        "id": "WpvQWP7dhbQZ",
        "colab": {
          "base_uri": "https://localhost:8080/"
        },
        "outputId": "ecd03b59-162b-4c05-8a89-7adc95d5533e"
      },
      "outputs": [
        {
          "output_type": "execute_result",
          "data": {
            "text/plain": [
              "4"
            ]
          },
          "metadata": {},
          "execution_count": 21
        }
      ],
      "source": [
        "a=2\n",
        "a+=2\n",
        "a"
      ]
    },
    {
      "cell_type": "code",
      "execution_count": null,
      "metadata": {
        "id": "buMCbEPehePk",
        "colab": {
          "base_uri": "https://localhost:8080/"
        },
        "outputId": "5362a2eb-933c-4234-cf47-290c667dea0e"
      },
      "outputs": [
        {
          "output_type": "stream",
          "name": "stdout",
          "text": [
            "2\n"
          ]
        },
        {
          "output_type": "execute_result",
          "data": {
            "text/plain": [
              "4"
            ]
          },
          "metadata": {},
          "execution_count": 22
        }
      ],
      "source": [
        "a=2\n",
        "print(a)\n",
        "a+2"
      ]
    },
    {
      "cell_type": "code",
      "execution_count": null,
      "metadata": {
        "id": "24yWHo9hhlL3",
        "colab": {
          "base_uri": "https://localhost:8080/"
        },
        "outputId": "9e0c7295-e2a6-477f-fedd-e8f14c03775f"
      },
      "outputs": [
        {
          "output_type": "execute_result",
          "data": {
            "text/plain": [
              "int"
            ]
          },
          "metadata": {},
          "execution_count": 18
        }
      ],
      "source": [
        "type(a)"
      ]
    },
    {
      "cell_type": "code",
      "execution_count": null,
      "metadata": {
        "id": "l-f9ST2Chphd",
        "colab": {
          "base_uri": "https://localhost:8080/"
        },
        "outputId": "41556c20-2162-4ffd-d027-91fecaebfe23"
      },
      "outputs": [
        {
          "output_type": "stream",
          "name": "stdout",
          "text": [
            "13568807645\n"
          ]
        },
        {
          "output_type": "execute_result",
          "data": {
            "text/plain": [
              "int"
            ]
          },
          "metadata": {},
          "execution_count": 23
        }
      ],
      "source": [
        "b=13568807645\n",
        "print(b)\n",
        "type(b)"
      ]
    },
    {
      "cell_type": "code",
      "execution_count": null,
      "metadata": {
        "id": "00KF-tNnhxWw",
        "colab": {
          "base_uri": "https://localhost:8080/"
        },
        "outputId": "6e8d910b-ff31-4652-b450-94fd3aefe221"
      },
      "outputs": [
        {
          "output_type": "stream",
          "name": "stdout",
          "text": [
            "22.5\n"
          ]
        },
        {
          "output_type": "execute_result",
          "data": {
            "text/plain": [
              "float"
            ]
          },
          "metadata": {},
          "execution_count": 20
        }
      ],
      "source": [
        "c=22.5\n",
        "print(c)\n",
        "type(c)"
      ]
    },
    {
      "cell_type": "code",
      "execution_count": null,
      "metadata": {
        "id": "xSzwM5dgh9el",
        "colab": {
          "base_uri": "https://localhost:8080/"
        },
        "outputId": "545d6c86-6aad-4fc4-d698-7ced901023ab"
      },
      "outputs": [
        {
          "output_type": "stream",
          "name": "stdout",
          "text": [
            "(2+3j)\n"
          ]
        },
        {
          "output_type": "execute_result",
          "data": {
            "text/plain": [
              "complex"
            ]
          },
          "metadata": {},
          "execution_count": 21
        }
      ],
      "source": [
        "d=2+3j\n",
        "print(d)\n",
        "type(d)"
      ]
    },
    {
      "cell_type": "code",
      "execution_count": null,
      "metadata": {
        "id": "2yPWa9DZiVEF"
      },
      "outputs": [],
      "source": [
        "a1,b1,c1= 10,23.55,2+3j"
      ]
    },
    {
      "cell_type": "code",
      "execution_count": null,
      "metadata": {
        "id": "FHNzBxumifjh",
        "colab": {
          "base_uri": "https://localhost:8080/"
        },
        "outputId": "df66f409-01a5-46fd-9ad7-28d5e8c936e2"
      },
      "outputs": [
        {
          "output_type": "stream",
          "name": "stdout",
          "text": [
            "10\n",
            "<class 'int'>\n"
          ]
        }
      ],
      "source": [
        "print(a1)\n",
        "print(type(a1))"
      ]
    },
    {
      "cell_type": "code",
      "execution_count": null,
      "metadata": {
        "id": "EI7reI2Zitfi",
        "colab": {
          "base_uri": "https://localhost:8080/"
        },
        "outputId": "31648451-e747-4d36-9271-a6289802b75c"
      },
      "outputs": [
        {
          "output_type": "stream",
          "name": "stdout",
          "text": [
            "23.55\n",
            "<class 'float'>\n"
          ]
        }
      ],
      "source": [
        "print(b1)\n",
        "print(type(b1))"
      ]
    },
    {
      "cell_type": "code",
      "execution_count": null,
      "metadata": {
        "id": "0Lq8jQ8Mi0V8",
        "colab": {
          "base_uri": "https://localhost:8080/"
        },
        "outputId": "0edaa2d8-55d9-4dd1-df46-765d3bd7271c"
      },
      "outputs": [
        {
          "output_type": "stream",
          "name": "stdout",
          "text": [
            "(2+3j)\n",
            "<class 'complex'>\n"
          ]
        }
      ],
      "source": [
        "print(c1)\n",
        "print(type(c1))"
      ]
    },
    {
      "cell_type": "code",
      "execution_count": null,
      "metadata": {
        "id": "vEz91KLXi7XP",
        "colab": {
          "base_uri": "https://localhost:8080/"
        },
        "outputId": "4daf7b6d-1404-49cb-c6e4-b56477c7b611"
      },
      "outputs": [
        {
          "output_type": "execute_result",
          "data": {
            "text/plain": [
              "-123456786000.0"
            ]
          },
          "metadata": {},
          "execution_count": 27
        }
      ],
      "source": [
        "-123456786000.0"
      ]
    },
    {
      "cell_type": "code",
      "execution_count": null,
      "metadata": {
        "id": "v82YAoJhjJhv",
        "colab": {
          "base_uri": "https://localhost:8080/"
        },
        "outputId": "2570dafb-c80e-4315-9060-5c0da27e6865"
      },
      "outputs": [
        {
          "output_type": "execute_result",
          "data": {
            "text/plain": [
              "inf"
            ]
          },
          "metadata": {},
          "execution_count": 28
        }
      ],
      "source": [
        "2e3067*100"
      ]
    },
    {
      "cell_type": "code",
      "execution_count": null,
      "metadata": {
        "id": "RdKU51W4jxW3",
        "colab": {
          "base_uri": "https://localhost:8080/"
        },
        "outputId": "9c918373-4707-4b65-8305-de2948e97511"
      },
      "outputs": [
        {
          "output_type": "execute_result",
          "data": {
            "text/plain": [
              "2e-323"
            ]
          },
          "metadata": {},
          "execution_count": 29
        }
      ],
      "source": [
        "2e-322/ 10"
      ]
    },
    {
      "cell_type": "code",
      "execution_count": null,
      "metadata": {
        "id": "0jLaM0nXj30P",
        "colab": {
          "base_uri": "https://localhost:8080/"
        },
        "outputId": "bb16b928-b3e4-401c-d9cd-02ed44c9f771"
      },
      "outputs": [
        {
          "output_type": "execute_result",
          "data": {
            "text/plain": [
              "4.440892098500626e-16"
            ]
          },
          "metadata": {},
          "execution_count": 30
        }
      ],
      "source": [
        "(2**0.5)*(2**0.5)-2"
      ]
    },
    {
      "cell_type": "code",
      "execution_count": null,
      "metadata": {
        "id": "SdwBRv6JkACK",
        "colab": {
          "base_uri": "https://localhost:8080/"
        },
        "outputId": "d2f7ecbc-92f9-4010-d230-8302a788c16e"
      },
      "outputs": [
        {
          "output_type": "stream",
          "name": "stdout",
          "text": [
            "5\n"
          ]
        }
      ],
      "source": [
        "print(2+3) # - * % / ** //"
      ]
    },
    {
      "cell_type": "code",
      "execution_count": null,
      "metadata": {
        "id": "vbt5xkSSkQDi",
        "colab": {
          "base_uri": "https://localhost:8080/"
        },
        "outputId": "d4996de1-097a-4b1a-c4b3-8add5af2a05c"
      },
      "outputs": [
        {
          "output_type": "execute_result",
          "data": {
            "text/plain": [
              "(2+3j)"
            ]
          },
          "metadata": {},
          "execution_count": 32
        }
      ],
      "source": [
        "d"
      ]
    },
    {
      "cell_type": "code",
      "execution_count": null,
      "metadata": {
        "id": "jvOItUFqkVSI"
      },
      "outputs": [],
      "source": [
        "d2=1-1j"
      ]
    },
    {
      "cell_type": "code",
      "execution_count": null,
      "metadata": {
        "id": "hhNti8JJkaN5",
        "colab": {
          "base_uri": "https://localhost:8080/"
        },
        "outputId": "b9d39fea-ed4d-4bd0-fdae-78118d9db502"
      },
      "outputs": [
        {
          "output_type": "execute_result",
          "data": {
            "text/plain": [
              "(4+3j)"
            ]
          },
          "metadata": {},
          "execution_count": 34
        }
      ],
      "source": [
        "d+2"
      ]
    },
    {
      "cell_type": "code",
      "execution_count": null,
      "metadata": {
        "id": "9fFw_ycRkgBn",
        "colab": {
          "base_uri": "https://localhost:8080/",
          "height": 165
        },
        "outputId": "47c4c84e-ac49-4266-8f61-b0492da978fd"
      },
      "outputs": [
        {
          "output_type": "error",
          "ename": "NameError",
          "evalue": "ignored",
          "traceback": [
            "\u001b[0;31m---------------------------------------------------------------------------\u001b[0m",
            "\u001b[0;31mNameError\u001b[0m                                 Traceback (most recent call last)",
            "\u001b[0;32m<ipython-input-1-e00052c4d18e>\u001b[0m in \u001b[0;36m<cell line: 1>\u001b[0;34m()\u001b[0m\n\u001b[0;32m----> 1\u001b[0;31m \u001b[0md\u001b[0m\u001b[0;34m+\u001b[0m\u001b[0md2\u001b[0m\u001b[0;34m\u001b[0m\u001b[0;34m\u001b[0m\u001b[0m\n\u001b[0m",
            "\u001b[0;31mNameError\u001b[0m: name 'd' is not defined"
          ]
        }
      ],
      "source": [
        "d+d2"
      ]
    },
    {
      "cell_type": "code",
      "execution_count": null,
      "metadata": {
        "id": "bCPrHV8PkjNx",
        "colab": {
          "base_uri": "https://localhost:8080/"
        },
        "outputId": "4bd6e60c-15e7-47c5-919b-3c2623dc7539"
      },
      "outputs": [
        {
          "output_type": "execute_result",
          "data": {
            "text/plain": [
              "(1+4j)"
            ]
          },
          "metadata": {},
          "execution_count": 36
        }
      ],
      "source": [
        "d-d2"
      ]
    },
    {
      "cell_type": "code",
      "execution_count": null,
      "metadata": {
        "id": "ajAdNyHAkp2-",
        "colab": {
          "base_uri": "https://localhost:8080/"
        },
        "outputId": "ee01d80b-dc88-458f-e651-ddcea8349a04"
      },
      "outputs": [
        {
          "output_type": "execute_result",
          "data": {
            "text/plain": [
              "(-0.5+2.5j)"
            ]
          },
          "metadata": {},
          "execution_count": 37
        }
      ],
      "source": [
        "d/d2"
      ]
    },
    {
      "cell_type": "code",
      "execution_count": null,
      "metadata": {
        "id": "5bFqzca9k-r2",
        "colab": {
          "base_uri": "https://localhost:8080/"
        },
        "outputId": "910c9522-f8af-4664-fd95-9dececfbca8e"
      },
      "outputs": [
        {
          "output_type": "execute_result",
          "data": {
            "text/plain": [
              "-22.5"
            ]
          },
          "metadata": {},
          "execution_count": 38
        }
      ],
      "source": [
        "d3=-c\n",
        "d3"
      ]
    },
    {
      "cell_type": "code",
      "execution_count": null,
      "metadata": {
        "id": "exW7_3sExF8F",
        "colab": {
          "base_uri": "https://localhost:8080/"
        },
        "outputId": "f75015aa-3792-4f86-e2d9-f78f9155e737"
      },
      "outputs": [
        {
          "output_type": "execute_result",
          "data": {
            "text/plain": [
              "9"
            ]
          },
          "metadata": {},
          "execution_count": 39
        }
      ],
      "source": [
        "pow(3,2)"
      ]
    },
    {
      "cell_type": "code",
      "execution_count": null,
      "metadata": {
        "id": "rk9nk1xzxJd6",
        "colab": {
          "base_uri": "https://localhost:8080/"
        },
        "outputId": "1855f15b-eed9-4152-c91f-0000dd49657c"
      },
      "outputs": [
        {
          "output_type": "execute_result",
          "data": {
            "text/plain": [
              "90"
            ]
          },
          "metadata": {},
          "execution_count": 40
        }
      ],
      "source": [
        "max(3,7,5,90,34)"
      ]
    },
    {
      "cell_type": "code",
      "execution_count": null,
      "metadata": {
        "id": "0Izmrm17xOwZ",
        "colab": {
          "base_uri": "https://localhost:8080/"
        },
        "outputId": "e031f7aa-997f-4660-af00-25888dbf5a22"
      },
      "outputs": [
        {
          "output_type": "execute_result",
          "data": {
            "text/plain": [
              "22.5"
            ]
          },
          "metadata": {},
          "execution_count": 41
        }
      ],
      "source": [
        "abs(d3)"
      ]
    },
    {
      "cell_type": "code",
      "execution_count": null,
      "metadata": {
        "id": "pEY_2r2rxRDD",
        "colab": {
          "base_uri": "https://localhost:8080/"
        },
        "outputId": "acbe7eeb-d9a6-43d7-efaa-d1d78177b904"
      },
      "outputs": [
        {
          "output_type": "execute_result",
          "data": {
            "text/plain": [
              "-22"
            ]
          },
          "metadata": {},
          "execution_count": 42
        }
      ],
      "source": [
        "round(d3)"
      ]
    },
    {
      "cell_type": "code",
      "execution_count": null,
      "metadata": {
        "id": "6TBjXLe4xYlw"
      },
      "outputs": [],
      "source": [
        "import math"
      ]
    },
    {
      "cell_type": "code",
      "execution_count": null,
      "metadata": {
        "id": "yBJKf8lrxg6C",
        "colab": {
          "base_uri": "https://localhost:8080/"
        },
        "outputId": "1171aed2-7989-4f8c-e9ca-25373b708ba9"
      },
      "outputs": [
        {
          "output_type": "stream",
          "name": "stdout",
          "text": [
            "2.0\n"
          ]
        }
      ],
      "source": [
        "print(math.sqrt(4))"
      ]
    },
    {
      "cell_type": "code",
      "execution_count": null,
      "metadata": {
        "id": "ywClHeZrxlTR",
        "colab": {
          "base_uri": "https://localhost:8080/"
        },
        "outputId": "bdad5977-c410-4225-f419-fd8280825bf5"
      },
      "outputs": [
        {
          "output_type": "execute_result",
          "data": {
            "text/plain": [
              "3"
            ]
          },
          "metadata": {},
          "execution_count": 45
        }
      ],
      "source": [
        "math.ceil(2.6)"
      ]
    },
    {
      "cell_type": "code",
      "execution_count": null,
      "metadata": {
        "id": "yLJBPjrjxsTN",
        "colab": {
          "base_uri": "https://localhost:8080/"
        },
        "outputId": "1916bcdc-cf3d-4cbc-b5e5-bbeb457c547f"
      },
      "outputs": [
        {
          "output_type": "execute_result",
          "data": {
            "text/plain": [
              "2"
            ]
          },
          "metadata": {},
          "execution_count": 46
        }
      ],
      "source": [
        "math.floor(2.6)"
      ]
    },
    {
      "cell_type": "markdown",
      "source": [
        "Strings"
      ],
      "metadata": {
        "id": "9Md5IKAHxVni"
      }
    },
    {
      "cell_type": "code",
      "execution_count": null,
      "metadata": {
        "id": "aymHPDs3xqic",
        "colab": {
          "base_uri": "https://localhost:8080/",
          "height": 35
        },
        "outputId": "4172f90f-2422-497d-8471-2240ddc0943a"
      },
      "outputs": [
        {
          "output_type": "execute_result",
          "data": {
            "text/plain": [
              "'department'"
            ],
            "application/vnd.google.colaboratory.intrinsic+json": {
              "type": "string"
            }
          },
          "metadata": {},
          "execution_count": 47
        }
      ],
      "source": [
        "e=\"department\"\n",
        "e"
      ]
    },
    {
      "cell_type": "code",
      "execution_count": null,
      "metadata": {
        "id": "x7w5cqusyBB4",
        "colab": {
          "base_uri": "https://localhost:8080/",
          "height": 35
        },
        "outputId": "c2c251fb-5ea4-4fb7-c820-035d4bd2133b"
      },
      "outputs": [
        {
          "output_type": "execute_result",
          "data": {
            "text/plain": [
              "'department'"
            ],
            "application/vnd.google.colaboratory.intrinsic+json": {
              "type": "string"
            }
          },
          "metadata": {},
          "execution_count": 48
        }
      ],
      "source": [
        "a1=\"\"\"department\"\"\"\n",
        "a1"
      ]
    },
    {
      "cell_type": "code",
      "execution_count": null,
      "metadata": {
        "id": "BPyYezOsyIm9"
      },
      "outputs": [],
      "source": [
        "f=\"statments\""
      ]
    },
    {
      "cell_type": "code",
      "execution_count": null,
      "metadata": {
        "id": "Qo0FrUnz6o7k",
        "colab": {
          "base_uri": "https://localhost:8080/",
          "height": 35
        },
        "outputId": "7bdac971-7cc6-4518-d24a-df2cab8ef9cd"
      },
      "outputs": [
        {
          "output_type": "execute_result",
          "data": {
            "text/plain": [
              "'departmentstatments'"
            ],
            "application/vnd.google.colaboratory.intrinsic+json": {
              "type": "string"
            }
          },
          "metadata": {},
          "execution_count": 50
        }
      ],
      "source": [
        "e+f"
      ]
    },
    {
      "cell_type": "code",
      "execution_count": null,
      "metadata": {
        "id": "eXLEJ_ew6r6-",
        "colab": {
          "base_uri": "https://localhost:8080/",
          "height": 35
        },
        "outputId": "2507ff1b-8642-4f07-f74c-45b62f30e584"
      },
      "outputs": [
        {
          "output_type": "execute_result",
          "data": {
            "text/plain": [
              "'departmentdepartment'"
            ],
            "application/vnd.google.colaboratory.intrinsic+json": {
              "type": "string"
            }
          },
          "metadata": {},
          "execution_count": 51
        }
      ],
      "source": [
        "e*2"
      ]
    },
    {
      "cell_type": "code",
      "execution_count": null,
      "metadata": {
        "id": "ONN5rJBH64NP",
        "colab": {
          "base_uri": "https://localhost:8080/"
        },
        "outputId": "75b882c4-d609-4383-f2f4-c20bd425da3d"
      },
      "outputs": [
        {
          "output_type": "execute_result",
          "data": {
            "text/plain": [
              "True"
            ]
          },
          "metadata": {},
          "execution_count": 52
        }
      ],
      "source": [
        "e<f"
      ]
    },
    {
      "cell_type": "code",
      "execution_count": null,
      "metadata": {
        "id": "FxzPOk4G7ELI",
        "colab": {
          "base_uri": "https://localhost:8080/"
        },
        "outputId": "d7caef13-6f3b-4bfe-99f2-375300e989c4"
      },
      "outputs": [
        {
          "output_type": "execute_result",
          "data": {
            "text/plain": [
              "True"
            ]
          },
          "metadata": {},
          "execution_count": 53
        }
      ],
      "source": [
        "\"a\"<\"b\""
      ]
    },
    {
      "cell_type": "code",
      "execution_count": null,
      "metadata": {
        "id": "nukdCOfK7Jks",
        "colab": {
          "base_uri": "https://localhost:8080/"
        },
        "outputId": "059f05cf-696d-443e-cd6d-5987d486442c"
      },
      "outputs": [
        {
          "output_type": "execute_result",
          "data": {
            "text/plain": [
              "True"
            ]
          },
          "metadata": {},
          "execution_count": 54
        }
      ],
      "source": [
        "\"A\"<\"a\""
      ]
    },
    {
      "cell_type": "code",
      "execution_count": null,
      "metadata": {
        "id": "hGH2aTVO7Ssv",
        "colab": {
          "base_uri": "https://localhost:8080/"
        },
        "outputId": "30b127ad-5266-458d-9bde-be8bfda84deb"
      },
      "outputs": [
        {
          "output_type": "execute_result",
          "data": {
            "text/plain": [
              "False"
            ]
          },
          "metadata": {},
          "execution_count": 55
        }
      ],
      "source": [
        "\"a\"<\"A\""
      ]
    },
    {
      "cell_type": "code",
      "source": [
        "e==f"
      ],
      "metadata": {
        "colab": {
          "base_uri": "https://localhost:8080/"
        },
        "id": "udpH78b-xpFx",
        "outputId": "5d563734-35ce-4ea9-d1b4-5bb4fce36b35"
      },
      "execution_count": null,
      "outputs": [
        {
          "output_type": "execute_result",
          "data": {
            "text/plain": [
              "False"
            ]
          },
          "metadata": {},
          "execution_count": 58
        }
      ]
    },
    {
      "cell_type": "code",
      "source": [
        "\"This won't work with a single quoted string!\""
      ],
      "metadata": {
        "colab": {
          "base_uri": "https://localhost:8080/",
          "height": 35
        },
        "id": "ntXd2jqKxxBA",
        "outputId": "81d1f87b-8c6f-4f7f-9dce-3bdeb8164cab"
      },
      "execution_count": null,
      "outputs": [
        {
          "output_type": "execute_result",
          "data": {
            "text/plain": [
              "\"This won't work with a single quoted string!\""
            ],
            "application/vnd.google.colaboratory.intrinsic+json": {
              "type": "string"
            }
          },
          "metadata": {},
          "execution_count": 59
        }
      ]
    },
    {
      "cell_type": "markdown",
      "source": [
        "Indencing and slicing in String"
      ],
      "metadata": {
        "id": "CWev7ds6yIRk"
      }
    },
    {
      "cell_type": "code",
      "source": [
        "g= 'deparment of statistics'\n",
        "print(g)"
      ],
      "metadata": {
        "colab": {
          "base_uri": "https://localhost:8080/"
        },
        "id": "PU5KHhB-ym0u",
        "outputId": "3b6f560a-82eb-4bb6-ebe8-62eeabde1cbb"
      },
      "execution_count": null,
      "outputs": [
        {
          "output_type": "stream",
          "name": "stdout",
          "text": [
            "deparment of statistics\n"
          ]
        }
      ]
    },
    {
      "cell_type": "code",
      "source": [
        "g[0]"
      ],
      "metadata": {
        "colab": {
          "base_uri": "https://localhost:8080/",
          "height": 35
        },
        "id": "9aFLkJ1GyEd5",
        "outputId": "7e809f03-c51f-4d11-ffc4-685231e9a402"
      },
      "execution_count": null,
      "outputs": [
        {
          "output_type": "execute_result",
          "data": {
            "text/plain": [
              "'d'"
            ],
            "application/vnd.google.colaboratory.intrinsic+json": {
              "type": "string"
            }
          },
          "metadata": {},
          "execution_count": 63
        }
      ]
    },
    {
      "cell_type": "code",
      "source": [
        "num = int(input(\"Enter a number: \"))\n",
        "if is_prime(num):\n",
        "    print(num, \"is a prime number.\")\n",
        "else:\n",
        "    print(num, \"is not a prime number.\")"
      ],
      "metadata": {
        "id": "8S8_S6Sjya4f",
        "colab": {
          "base_uri": "https://localhost:8080/",
          "height": 252
        },
        "outputId": "89337e8d-2554-4560-e5f2-e38224d1e474"
      },
      "execution_count": null,
      "outputs": [
        {
          "name": "stdout",
          "output_type": "stream",
          "text": [
            "Enter a number: 7\n"
          ]
        },
        {
          "output_type": "error",
          "ename": "NameError",
          "evalue": "ignored",
          "traceback": [
            "\u001b[0;31m---------------------------------------------------------------------------\u001b[0m",
            "\u001b[0;31mNameError\u001b[0m                                 Traceback (most recent call last)",
            "\u001b[0;32m<ipython-input-15-8e9b0abfc777>\u001b[0m in \u001b[0;36m<cell line: 2>\u001b[0;34m()\u001b[0m\n\u001b[1;32m      1\u001b[0m \u001b[0mnum\u001b[0m \u001b[0;34m=\u001b[0m \u001b[0mint\u001b[0m\u001b[0;34m(\u001b[0m\u001b[0minput\u001b[0m\u001b[0;34m(\u001b[0m\u001b[0;34m\"Enter a number: \"\u001b[0m\u001b[0;34m)\u001b[0m\u001b[0;34m)\u001b[0m\u001b[0;34m\u001b[0m\u001b[0;34m\u001b[0m\u001b[0m\n\u001b[0;32m----> 2\u001b[0;31m \u001b[0;32mif\u001b[0m \u001b[0mis_prime\u001b[0m\u001b[0;34m(\u001b[0m\u001b[0mnum\u001b[0m\u001b[0;34m)\u001b[0m\u001b[0;34m:\u001b[0m\u001b[0;34m\u001b[0m\u001b[0;34m\u001b[0m\u001b[0m\n\u001b[0m\u001b[1;32m      3\u001b[0m     \u001b[0mprint\u001b[0m\u001b[0;34m(\u001b[0m\u001b[0mnum\u001b[0m\u001b[0;34m,\u001b[0m \u001b[0;34m\"is a prime number.\"\u001b[0m\u001b[0;34m)\u001b[0m\u001b[0;34m\u001b[0m\u001b[0;34m\u001b[0m\u001b[0m\n\u001b[1;32m      4\u001b[0m \u001b[0;32melse\u001b[0m\u001b[0;34m:\u001b[0m\u001b[0;34m\u001b[0m\u001b[0;34m\u001b[0m\u001b[0m\n\u001b[1;32m      5\u001b[0m     \u001b[0mprint\u001b[0m\u001b[0;34m(\u001b[0m\u001b[0mnum\u001b[0m\u001b[0;34m,\u001b[0m \u001b[0;34m\"is not a prime number.\"\u001b[0m\u001b[0;34m)\u001b[0m\u001b[0;34m\u001b[0m\u001b[0;34m\u001b[0m\u001b[0m\n",
            "\u001b[0;31mNameError\u001b[0m: name 'is_prime' is not defined"
          ]
        }
      ]
    },
    {
      "cell_type": "code",
      "execution_count": null,
      "metadata": {
        "id": "TOCZDh177X3i",
        "colab": {
          "base_uri": "https://localhost:8080/"
        },
        "outputId": "bf1810c5-8824-4179-edc1-ddd40ede58c8"
      },
      "outputs": [
        {
          "output_type": "stream",
          "name": "stdout",
          "text": [
            "a & b = 0\n",
            "a | b = 14\n",
            "~a = -11\n",
            "a ^ b = 14\n"
          ]
        }
      ],
      "source": [
        "a = 10\n",
        "b = 4\n",
        " \n",
        "# Print bitwise AND operation\n",
        "print(\"a & b =\", a & b)\n",
        " \n",
        "# Print bitwise OR operation\n",
        "print(\"a | b =\", a | b)\n",
        " \n",
        "# Print bitwise NOT operation\n",
        "print(\"~a =\", ~a)\n",
        " \n",
        "# print bitwise XOR operation\n",
        "print(\"a ^ b =\", a ^ b)"
      ]
    },
    {
      "cell_type": "code",
      "execution_count": null,
      "metadata": {
        "id": "RKEXv8McAqky",
        "colab": {
          "base_uri": "https://localhost:8080/"
        },
        "outputId": "6e0772bb-8c14-4da3-e221-927848fd8077"
      },
      "outputs": [
        {
          "output_type": "stream",
          "name": "stdout",
          "text": [
            "~a = -11\n"
          ]
        }
      ],
      "source": [
        "a = 10\n",
        "# Print bitwise NOT operation\n",
        "print(\"~a =\", ~a)"
      ]
    },
    {
      "cell_type": "code",
      "execution_count": null,
      "metadata": {
        "id": "JlhIIkuSh8PU"
      },
      "outputs": [],
      "source": [
        "e='Depertment'"
      ]
    },
    {
      "cell_type": "markdown",
      "metadata": {
        "id": "L12OEFXBBzyH"
      },
      "source": [
        "# if elif else statment:\n"
      ]
    },
    {
      "cell_type": "code",
      "execution_count": null,
      "metadata": {
        "id": "7oXcGr0xBmTY",
        "colab": {
          "base_uri": "https://localhost:8080/"
        },
        "outputId": "3855131e-e4db-46a0-ba3a-9deae6673505"
      },
      "outputs": [
        {
          "output_type": "stream",
          "name": "stdout",
          "text": [
            "what is your marks\n",
            "49\n",
            "good score\n"
          ]
        }
      ],
      "source": [
        "print(\"what is your marks\")\n",
        "marks=int(input())\n",
        "if marks<40:\n",
        "  print(\"your are fail\")\n",
        "elif marks == 40:\n",
        "  print(\"your pass\")\n",
        "else :\n",
        "  print(\"good score\")"
      ]
    },
    {
      "cell_type": "code",
      "source": [
        "a={1:\"A\",2:\"B\",3:\"C\"}\n",
        "print(a.get(1,4))\n"
      ],
      "metadata": {
        "colab": {
          "base_uri": "https://localhost:8080/"
        },
        "id": "PzzSWB3reGr7",
        "outputId": "11b2ac6a-4c06-4a3d-80c7-545f0cd76fae"
      },
      "execution_count": null,
      "outputs": [
        {
          "output_type": "stream",
          "name": "stdout",
          "text": [
            "A\n"
          ]
        }
      ]
    },
    {
      "cell_type": "code",
      "source": [
        "flag = \"\"\n",
        "a = 0\n",
        "i = 1\n",
        "while(a < 3):\n",
        "    j = 1\n",
        "    if flag:\n",
        "       i = j * i + 5\n",
        "    else:\n",
        "       i = j * i + 1\n",
        "       a = a + 1\n",
        "print(i)\n"
      ],
      "metadata": {
        "colab": {
          "base_uri": "https://localhost:8080/"
        },
        "id": "zGB4SDe4lhSM",
        "outputId": "65f7f70d-9312-43b5-fb03-01ffb5de5a5c"
      },
      "execution_count": null,
      "outputs": [
        {
          "output_type": "stream",
          "name": "stdout",
          "text": [
            "4\n"
          ]
        }
      ]
    },
    {
      "cell_type": "code",
      "source": [
        "values = [[3, 4, 5, 1], [33, 6, 1, 2]]\n",
        "v = values[0][0]\n",
        "for lst in values:\n",
        "     for element in lst:\n",
        "          if v > element:\n",
        "              v = element\n",
        "print(v)"
      ],
      "metadata": {
        "colab": {
          "base_uri": "https://localhost:8080/"
        },
        "id": "g-8mrbmGlxeh",
        "outputId": "d7ec1390-d025-4fbc-d071-1985f03cc331"
      },
      "execution_count": null,
      "outputs": [
        {
          "output_type": "stream",
          "name": "stdout",
          "text": [
            "1\n"
          ]
        }
      ]
    },
    {
      "cell_type": "code",
      "source": [
        "x = \"abcdef\"\n",
        "i = \"a\"\n",
        "while i in x:\n",
        "     x = x[:-1]\n",
        "     print(i, end = \" \")"
      ],
      "metadata": {
        "id": "c_9JgKkgmgxL",
        "outputId": "02fa040e-905b-4f2b-869f-2ff2ac61f58d",
        "colab": {
          "base_uri": "https://localhost:8080/"
        }
      },
      "execution_count": null,
      "outputs": [
        {
          "output_type": "stream",
          "name": "stdout",
          "text": [
            "a a a a a a "
          ]
        }
      ]
    },
    {
      "cell_type": "code",
      "source": [
        "a={}\n",
        "a[2]=1\n",
        "a[1]=[2,3,4]\n",
        "print(a[1][1])"
      ],
      "metadata": {
        "colab": {
          "base_uri": "https://localhost:8080/"
        },
        "id": "r9UCp--5lR-q",
        "outputId": "ea8c4011-680b-4665-fd23-c430b681af6f"
      },
      "execution_count": null,
      "outputs": [
        {
          "output_type": "stream",
          "name": "stdout",
          "text": [
            "3\n"
          ]
        }
      ]
    },
    {
      "cell_type": "code",
      "source": [
        "a=10\n",
        "b=20\n",
        "def change():\n",
        "     global b\n",
        "     a=45\n",
        "     b=56\n",
        "change()\n",
        "print(a)\n",
        "print(b)"
      ],
      "metadata": {
        "colab": {
          "base_uri": "https://localhost:8080/"
        },
        "id": "arcrwCApj0NK",
        "outputId": "3d8f8403-82ca-4e89-a9b6-b5b205318252"
      },
      "execution_count": null,
      "outputs": [
        {
          "output_type": "stream",
          "name": "stdout",
          "text": [
            "10\n",
            "56\n"
          ]
        }
      ]
    },
    {
      "cell_type": "markdown",
      "metadata": {
        "id": "EgMhQcQYB93F"
      },
      "source": [
        "# while loop"
      ]
    },
    {
      "cell_type": "code",
      "execution_count": null,
      "metadata": {
        "id": "N0RtZD67DI9Q",
        "colab": {
          "base_uri": "https://localhost:8080/"
        },
        "outputId": "b1f5f3f5-21e7-4bd0-e03b-04f04764257e"
      },
      "outputs": [
        {
          "output_type": "stream",
          "name": "stdout",
          "text": [
            "Pass\n",
            "Pass\n",
            "Pass\n",
            "Pass\n",
            "Pass\n"
          ]
        }
      ],
      "source": [
        "i= 1\n",
        "while i<=5:\n",
        "  print(\"Pass\")\n",
        "  i=i+1"
      ]
    },
    {
      "cell_type": "code",
      "execution_count": null,
      "metadata": {
        "id": "JZKyBSKAAIEZ",
        "colab": {
          "base_uri": "https://localhost:8080/"
        },
        "outputId": "ac6cfd6e-80ed-44ab-984e-4e08da0e4d77"
      },
      "outputs": [
        {
          "output_type": "stream",
          "name": "stdout",
          "text": [
            "50\n",
            "49\n",
            "48\n",
            "47\n",
            "46\n",
            "45\n",
            "44\n",
            "43\n",
            "42\n",
            "41\n",
            "40\n",
            "39\n",
            "38\n",
            "37\n",
            "36\n",
            "35\n",
            "34\n",
            "33\n",
            "32\n",
            "31\n",
            "30\n",
            "29\n",
            "28\n",
            "27\n",
            "26\n",
            "25\n",
            "24\n",
            "23\n",
            "22\n",
            "21\n",
            "20\n",
            "19\n",
            "18\n",
            "17\n",
            "16\n",
            "15\n",
            "14\n",
            "13\n",
            "12\n",
            "11\n",
            "10\n",
            "9\n",
            "8\n",
            "7\n",
            "6\n",
            "5\n",
            "4\n",
            "3\n",
            "2\n",
            "1\n"
          ]
        }
      ],
      "source": [
        "b = 50\n",
        "while b >=1:\n",
        "  print(b)\n",
        "  b=b-1"
      ]
    },
    {
      "cell_type": "code",
      "execution_count": null,
      "metadata": {
        "id": "33ueTeF7AHbF",
        "colab": {
          "base_uri": "https://localhost:8080/"
        },
        "outputId": "18580cbf-e91b-4e18-b83b-7843189ecfc5"
      },
      "outputs": [
        {
          "output_type": "stream",
          "name": "stdout",
          "text": [
            "100\n",
            "99\n",
            "98\n",
            "97\n",
            "96\n",
            "95\n",
            "94\n",
            "93\n",
            "92\n",
            "91\n",
            "90\n",
            "89\n",
            "88\n",
            "87\n",
            "86\n",
            "85\n",
            "84\n",
            "83\n",
            "82\n",
            "81\n",
            "80\n",
            "79\n",
            "78\n",
            "77\n",
            "76\n",
            "75\n",
            "74\n",
            "73\n",
            "72\n",
            "71\n",
            "70\n",
            "69\n",
            "68\n",
            "67\n",
            "66\n",
            "65\n",
            "64\n",
            "63\n",
            "62\n",
            "61\n",
            "60\n",
            "59\n",
            "58\n",
            "57\n",
            "56\n",
            "55\n",
            "54\n",
            "53\n",
            "52\n",
            "51\n",
            "50\n",
            "49\n",
            "48\n",
            "47\n",
            "46\n",
            "45\n",
            "44\n",
            "43\n",
            "42\n",
            "41\n",
            "40\n",
            "39\n",
            "38\n",
            "37\n",
            "36\n",
            "35\n",
            "34\n",
            "33\n",
            "32\n",
            "31\n",
            "30\n",
            "29\n",
            "28\n",
            "27\n",
            "26\n",
            "25\n",
            "24\n",
            "23\n",
            "22\n",
            "21\n",
            "20\n",
            "19\n",
            "18\n",
            "17\n",
            "16\n",
            "15\n",
            "14\n",
            "13\n",
            "12\n",
            "11\n",
            "10\n",
            "9\n",
            "8\n",
            "7\n",
            "6\n",
            "5\n",
            "4\n",
            "3\n",
            "2\n",
            "1\n"
          ]
        }
      ],
      "source": [
        "a=100\n",
        "while a>=1:\n",
        "  print(a)\n",
        "  a=a-1"
      ]
    },
    {
      "cell_type": "code",
      "execution_count": null,
      "metadata": {
        "id": "TeISkP_JADNh"
      },
      "outputs": [],
      "source": [
        "2+3"
      ]
    },
    {
      "cell_type": "markdown",
      "metadata": {
        "id": "OwXFioKtDSXw"
      },
      "source": [
        "if statment\n"
      ]
    },
    {
      "cell_type": "code",
      "execution_count": null,
      "metadata": {
        "id": "QhSIU8KLDBUl",
        "colab": {
          "base_uri": "https://localhost:8080/"
        },
        "outputId": "3089d5c2-3fac-4e6b-f908-38c0aa855a03"
      },
      "outputs": [
        {
          "output_type": "stream",
          "name": "stdout",
          "text": [
            "im right\n"
          ]
        }
      ],
      "source": [
        "if True:\n",
        "  print(\"im right\")"
      ]
    },
    {
      "cell_type": "code",
      "execution_count": null,
      "metadata": {
        "id": "84zshNNbDdx2",
        "colab": {
          "base_uri": "https://localhost:8080/"
        },
        "outputId": "b721e436-ea99-4bfc-fde3-fdb2a8454c8c"
      },
      "outputs": [
        {
          "output_type": "stream",
          "name": "stdout",
          "text": [
            "40\n",
            "lesser\n"
          ]
        }
      ],
      "source": [
        "var1 = 6\n",
        "var2 = 56\n",
        "var3 = int(input())\n",
        "if var3 > var2:\n",
        "  print(\"greter\")\n",
        "elif var3==var2:\n",
        "  print(\"equal\")  \n",
        "\n",
        "else:\n",
        "  print(\"lesser\")  "
      ]
    },
    {
      "cell_type": "code",
      "execution_count": null,
      "metadata": {
        "id": "N1BfxTIcDBE4",
        "colab": {
          "base_uri": "https://localhost:8080/"
        },
        "outputId": "68604abd-71e0-4b89-e11e-450cf3f6a7b7"
      },
      "outputs": [
        {
          "output_type": "stream",
          "name": "stdout",
          "text": [
            "yes\n"
          ]
        }
      ],
      "source": [
        "list=[5,7,3]\n",
        "if 5 in list:\n",
        "  print(\"yes\")"
      ]
    },
    {
      "cell_type": "code",
      "execution_count": null,
      "metadata": {
        "id": "X1hMBB-0GMg-",
        "colab": {
          "base_uri": "https://localhost:8080/"
        },
        "outputId": "806af8a3-31dd-432c-e297-9f54fe5bb754"
      },
      "outputs": [
        {
          "output_type": "stream",
          "name": "stdout",
          "text": [
            "navin\n",
            "65\n",
            "2.5\n"
          ]
        }
      ],
      "source": [
        "x=['navin',65,2.5]\n",
        "for i in x:\n",
        "  print(i)"
      ]
    },
    {
      "cell_type": "code",
      "execution_count": null,
      "metadata": {
        "id": "7gEzaL_nHrS2",
        "colab": {
          "base_uri": "https://localhost:8080/"
        },
        "outputId": "3b8de47e-23f6-430b-d3ab-22379e9da98b"
      },
      "outputs": [
        {
          "output_type": "stream",
          "name": "stdout",
          "text": [
            "n\n",
            "a\n",
            "v\n",
            "i\n",
            "n\n"
          ]
        }
      ],
      "source": [
        "x='navin'\n",
        "for i in x:\n",
        "  print(i)"
      ]
    },
    {
      "cell_type": "code",
      "execution_count": null,
      "metadata": {
        "id": "9ENW8RVrH5XL",
        "colab": {
          "base_uri": "https://localhost:8080/"
        },
        "outputId": "f8b96064-092e-4870-85f5-3bbbc64db591"
      },
      "outputs": [
        {
          "output_type": "stream",
          "name": "stdout",
          "text": [
            "0\n",
            "1\n",
            "2\n",
            "3\n",
            "4\n",
            "5\n",
            "6\n",
            "7\n",
            "8\n",
            "9\n"
          ]
        }
      ],
      "source": [
        "for i in range (10):\n",
        "  print(i)"
      ]
    },
    {
      "cell_type": "code",
      "execution_count": null,
      "metadata": {
        "id": "RNgk4-bbIEEp",
        "colab": {
          "base_uri": "https://localhost:8080/"
        },
        "outputId": "5332986a-af61-4aad-c286-9a58dbbefc7a"
      },
      "outputs": [
        {
          "output_type": "stream",
          "name": "stdout",
          "text": [
            "11\n",
            "13\n",
            "15\n",
            "17\n",
            "19\n"
          ]
        }
      ],
      "source": [
        "for a in range(11,21,2):\n",
        "  print(a)"
      ]
    },
    {
      "cell_type": "code",
      "execution_count": null,
      "metadata": {
        "id": "Hw53mQxOI2OK",
        "colab": {
          "base_uri": "https://localhost:8080/"
        },
        "outputId": "18fb4d15-30c1-49e7-9950-d322cc3c85d6"
      },
      "outputs": [
        {
          "output_type": "stream",
          "name": "stdout",
          "text": [
            "20\n",
            "19\n",
            "18\n",
            "17\n",
            "16\n",
            "15\n",
            "14\n",
            "13\n",
            "12\n",
            "11\n"
          ]
        }
      ],
      "source": [
        "for b in range(20,10,-1):\n",
        "  print(b)"
      ]
    },
    {
      "cell_type": "code",
      "execution_count": null,
      "metadata": {
        "id": "gPGfhQo5JJGG",
        "colab": {
          "base_uri": "https://localhost:8080/"
        },
        "outputId": "cec29f3d-a014-49e9-a411-83304ca41deb"
      },
      "outputs": [
        {
          "output_type": "stream",
          "name": "stdout",
          "text": [
            "1\n",
            "2\n",
            "3\n",
            "4\n",
            "6\n",
            "7\n",
            "8\n",
            "9\n",
            "11\n",
            "12\n",
            "13\n",
            "14\n",
            "16\n",
            "17\n",
            "18\n",
            "19\n"
          ]
        }
      ],
      "source": [
        "for a in range(1,21):\n",
        "  if a % 5!=0:\n",
        "    print(a)"
      ]
    },
    {
      "cell_type": "markdown",
      "metadata": {
        "id": "BHpXDtEbK0gF"
      },
      "source": [
        "# Break continue pass\n"
      ]
    },
    {
      "cell_type": "code",
      "execution_count": null,
      "metadata": {
        "id": "nUq3oL8HLIs6",
        "colab": {
          "base_uri": "https://localhost:8080/"
        },
        "outputId": "8ea6308a-df14-4bc8-8262-bd49d6c21f2e"
      },
      "outputs": [
        {
          "output_type": "stream",
          "name": "stdout",
          "text": [
            "how many candiescyou want?12\n",
            "candy\n",
            "candy\n",
            "candy\n",
            "candy\n",
            "candy\n",
            "candy\n",
            "candy\n",
            "candy\n",
            "candy\n",
            "candy\n",
            "candy\n",
            "candy\n"
          ]
        }
      ],
      "source": [
        "x = int (input(\"how many candiescyou want?\"))\n",
        "i = 1 \n",
        "\n",
        "while i <=x:\n",
        "   print(\"candy\")\n",
        "   i+=1"
      ]
    },
    {
      "cell_type": "code",
      "execution_count": null,
      "metadata": {
        "id": "epXSZ8Vu6KEN",
        "colab": {
          "base_uri": "https://localhost:8080/"
        },
        "outputId": "1a8903e4-37a3-4901-f609-180ba61fa50a"
      },
      "outputs": [
        {
          "output_type": "stream",
          "name": "stdout",
          "text": [
            "how many candies you wont?8\n",
            "candy\n",
            "candy\n",
            "candy\n",
            "candy\n",
            "candy\n",
            "out of stock\n",
            "bye\n"
          ]
        }
      ],
      "source": [
        "av = 6\n",
        "x = int (input(\"how many candies you wont?\"))\n",
        "a= 1\n",
        "while a<=x:\n",
        "   if a>=av:\n",
        "       print(\"out of stock\") \n",
        "       break\n",
        "   print(\"candy\") \n",
        "   a+=1  \n",
        "print(\"bye\")     \n",
        "   \n",
        "    \n"
      ]
    },
    {
      "cell_type": "code",
      "execution_count": null,
      "metadata": {
        "id": "YxkbyhLSBw_u",
        "colab": {
          "base_uri": "https://localhost:8080/"
        },
        "outputId": "73f65302-8189-40f7-9493-421c82123684"
      },
      "outputs": [
        {
          "output_type": "stream",
          "name": "stdout",
          "text": [
            "how many balls you wont?11\n",
            "ball\n",
            "ball\n",
            "ball\n",
            "ball\n",
            "ball\n",
            "ball\n",
            "ball\n",
            "ball\n",
            "ball\n",
            "out of stock\n",
            "bye\n"
          ]
        }
      ],
      "source": [
        "av = 10\n",
        "i= 1\n",
        "x= int (input(\"how many balls you wont?\"))\n",
        "while i<=x:\n",
        "  if i>=av:\n",
        "    print(\"out of stock\")\n",
        "    break\n",
        "  print(\"ball\")\n",
        "  i+=1\n",
        "print(\"bye\")    "
      ]
    },
    {
      "cell_type": "code",
      "execution_count": null,
      "metadata": {
        "id": "ARVEruHlF7dJ",
        "colab": {
          "base_uri": "https://localhost:8080/"
        },
        "outputId": "035435ea-873f-4c9c-d5f7-16c3b4109a96"
      },
      "outputs": [
        {
          "output_type": "stream",
          "name": "stdout",
          "text": [
            "0 1 2 3 4 5 6 7 8 9 10 11 12 13 14 15 16 17 18 19 20 21 22 23 24 25 26 27 28 29 30 31 32 33 34 35 36 37 38 39 40 41 42 43 44 45 "
          ]
        }
      ],
      "source": [
        "i = 0\n",
        "while i<=45:\n",
        "  print(i,end=\" \")\n",
        "  i+=1"
      ]
    },
    {
      "cell_type": "code",
      "source": [
        "i = 0\n",
        "while i<=90:\n",
        "  print(i)\n",
        "  i+=1"
      ],
      "metadata": {
        "colab": {
          "base_uri": "https://localhost:8080/"
        },
        "id": "lQ67_ygGjpmO",
        "outputId": "257937ca-f1fd-41e7-b45c-81c2f475c26a"
      },
      "execution_count": null,
      "outputs": [
        {
          "output_type": "stream",
          "name": "stdout",
          "text": [
            "0\n",
            "1\n",
            "2\n",
            "3\n",
            "4\n",
            "5\n",
            "6\n",
            "7\n",
            "8\n",
            "9\n",
            "10\n",
            "11\n",
            "12\n",
            "13\n",
            "14\n",
            "15\n",
            "16\n",
            "17\n",
            "18\n",
            "19\n",
            "20\n",
            "21\n",
            "22\n",
            "23\n",
            "24\n",
            "25\n",
            "26\n",
            "27\n",
            "28\n",
            "29\n",
            "30\n",
            "31\n",
            "32\n",
            "33\n",
            "34\n",
            "35\n",
            "36\n",
            "37\n",
            "38\n",
            "39\n",
            "40\n",
            "41\n",
            "42\n",
            "43\n",
            "44\n",
            "45\n",
            "46\n",
            "47\n",
            "48\n",
            "49\n",
            "50\n",
            "51\n",
            "52\n",
            "53\n",
            "54\n",
            "55\n",
            "56\n",
            "57\n",
            "58\n",
            "59\n",
            "60\n",
            "61\n",
            "62\n",
            "63\n",
            "64\n",
            "65\n",
            "66\n",
            "67\n",
            "68\n",
            "69\n",
            "70\n",
            "71\n",
            "72\n",
            "73\n",
            "74\n",
            "75\n",
            "76\n",
            "77\n",
            "78\n",
            "79\n",
            "80\n",
            "81\n",
            "82\n",
            "83\n",
            "84\n",
            "85\n",
            "86\n",
            "87\n",
            "88\n",
            "89\n",
            "90\n"
          ]
        }
      ]
    },
    {
      "cell_type": "code",
      "execution_count": null,
      "metadata": {
        "id": "mp1uKCGHGysY",
        "colab": {
          "base_uri": "https://localhost:8080/"
        },
        "outputId": "f9bbf6c2-0d0f-4ee1-9e1a-4449c2440d48"
      },
      "outputs": [
        {
          "output_type": "stream",
          "name": "stdout",
          "text": [
            "5\n",
            "10\n",
            "15\n",
            "20\n",
            "25\n",
            "30\n",
            "35\n",
            "40\n",
            "45\n",
            "50\n"
          ]
        }
      ],
      "source": [
        "# 5 number table\n",
        "i = 5\n",
        "\n",
        "while i <=50:\n",
        "  print(i)\n",
        "  i+=5\n",
        "\n",
        "  "
      ]
    },
    {
      "cell_type": "code",
      "execution_count": null,
      "metadata": {
        "id": "3DH0lxjEKYQi",
        "colab": {
          "base_uri": "https://localhost:8080/"
        },
        "outputId": "6300ad35-1cd3-4c69-9d80-2b50ebb26ecc"
      },
      "outputs": [
        {
          "output_type": "stream",
          "name": "stdout",
          "text": [
            "1 3 5 7 9 11 13 15 17 19 21 23 25 27 29 31 33 35 37 39 "
          ]
        }
      ],
      "source": [
        "# odd number\n",
        "i= 1\n",
        "while i<=40:\n",
        "  print(i,end=\" \")\n",
        "  i+=2"
      ]
    },
    {
      "cell_type": "code",
      "execution_count": null,
      "metadata": {
        "id": "BrTDoVMOGeUG",
        "colab": {
          "base_uri": "https://localhost:8080/"
        },
        "outputId": "539cf679-b473-4e91-b8a6-00816ef9631e"
      },
      "outputs": [
        {
          "output_type": "stream",
          "name": "stdout",
          "text": [
            "2 4 6 8 10 12 14 16 18 20 22 24 26 28 30 32 34 36 38 40 "
          ]
        }
      ],
      "source": [
        "#even number\n",
        "i=2\n",
        "while i <=40:\n",
        "  print(i,end=\" \")\n",
        "  i+=2\n"
      ]
    },
    {
      "cell_type": "code",
      "execution_count": null,
      "metadata": {
        "id": "ORtiNiVwbciH",
        "colab": {
          "base_uri": "https://localhost:8080/"
        },
        "outputId": "ab2db771-16e2-424a-f466-7aedf9310494"
      },
      "outputs": [
        {
          "output_type": "stream",
          "name": "stdout",
          "text": [
            "2 4 6 8 10 12 14 16 18 20 22 24 26 28 30 32 34 36 38 40 42 44 46 48 50 52 54 56 58 60 62 64 66 68 70 72 74 76 78 80 82 84 86 88 90 92 94 96 98 100 bye\n"
          ]
        }
      ],
      "source": [
        "for i in range (1,101):\n",
        "  if(i%2!=0):\n",
        "    pass\n",
        "  else:\n",
        "    print(i,end=\" \")\n",
        "print(\"bye\")   "
      ]
    },
    {
      "cell_type": "code",
      "execution_count": null,
      "metadata": {
        "id": "EBEaCMDMfjhQ"
      },
      "outputs": [],
      "source": [
        "#pass\n",
        "if i ==4:\n",
        "   pass"
      ]
    },
    {
      "cell_type": "code",
      "execution_count": null,
      "metadata": {
        "id": "FOVSqiTuMvYu",
        "colab": {
          "base_uri": "https://localhost:8080/"
        },
        "outputId": "a97e40eb-956d-4ebf-f218-5f10dd435cd5"
      },
      "outputs": [
        {
          "output_type": "stream",
          "name": "stdout",
          "text": [
            "2 3 4 5 6 7 8 9 10 11 12 13 14 15 16 17 18 19 20 "
          ]
        }
      ],
      "source": [
        "# prime number\n",
        "i = 2\n",
        "while i<=20:\n",
        "  print(i,end=\" \")\n",
        "  i+=1"
      ]
    },
    {
      "cell_type": "code",
      "execution_count": null,
      "metadata": {
        "id": "LWL4VtyvfiS_",
        "colab": {
          "base_uri": "https://localhost:8080/"
        },
        "outputId": "87f88806-76a6-4e84-e6eb-b6deb4f2c709"
      },
      "outputs": [
        {
          "output_type": "stream",
          "name": "stdout",
          "text": [
            "# \n",
            "# # \n",
            "# # # \n",
            "# # # # \n"
          ]
        }
      ],
      "source": [
        "# pattern type\n",
        "for i in range (4):\n",
        "  for j in range(i+1):\n",
        "    print(\"#\",end=\" \")\n",
        "  print()    "
      ]
    },
    {
      "cell_type": "code",
      "execution_count": null,
      "metadata": {
        "id": "m3m7NHdbhkh3"
      },
      "outputs": [],
      "source": []
    },
    {
      "cell_type": "code",
      "execution_count": null,
      "metadata": {
        "id": "7wnUqYryhkLV"
      },
      "outputs": [],
      "source": []
    },
    {
      "cell_type": "code",
      "execution_count": null,
      "metadata": {
        "colab": {
          "background_save": true
        },
        "id": "VVjp15SPJcqj"
      },
      "outputs": [],
      "source": [
        "r=1\n",
        "while (r<=5):\n",
        "  c=1\n",
        "  while(c<=r):\n",
        "    print(c,end=\" \")\n",
        "  c=c+1\n",
        "  r=r+1\n",
        "print()  \n"
      ]
    },
    {
      "cell_type": "code",
      "execution_count": null,
      "metadata": {
        "id": "KadHW-hGfwA1"
      },
      "outputs": [],
      "source": [
        "for i in range(4):\n",
        "  for j in range(4):\n",
        "    print(\"#\",end=\" \")\n",
        "  print()  "
      ]
    },
    {
      "cell_type": "code",
      "execution_count": null,
      "metadata": {
        "id": "gl-Tim5nh0qG",
        "colab": {
          "base_uri": "https://localhost:8080/"
        },
        "outputId": "103d7ccd-ec7e-4960-cca0-40602fdd4c7b"
      },
      "outputs": [
        {
          "output_type": "stream",
          "name": "stdout",
          "text": [
            "# # # # \n",
            "# # # \n",
            "# # \n",
            "# \n"
          ]
        }
      ],
      "source": [
        "for i in range(4):\n",
        "  for j in range(4-i):\n",
        "    print(\"#\",end=\" \")\n",
        "  print()  "
      ]
    },
    {
      "cell_type": "code",
      "execution_count": null,
      "metadata": {
        "id": "_jjUD30WJUwT",
        "colab": {
          "base_uri": "https://localhost:8080/"
        },
        "outputId": "bbad4c27-f60d-4e35-e513-ef0a67580175"
      },
      "outputs": [
        {
          "output_type": "stream",
          "name": "stdout",
          "text": [
            "enter number of row needed6\n",
            "1 \n",
            "1 2 \n",
            "1 2 3 \n",
            "1 2 3 4 \n",
            "1 2 3 4 5 \n",
            "1 2 3 4 5 6 \n"
          ]
        }
      ],
      "source": [
        "n= int(input(\"enter number of row needed\"))\n",
        "for i in range (n):\n",
        "  for j in range (i+1):\n",
        "    print(j+1,end=\" \")\n",
        "  print()    "
      ]
    },
    {
      "cell_type": "code",
      "execution_count": null,
      "metadata": {
        "id": "yr4E7ADGJUjr"
      },
      "outputs": [],
      "source": []
    },
    {
      "cell_type": "code",
      "execution_count": null,
      "metadata": {
        "id": "e_MZmK45i3mf"
      },
      "outputs": [],
      "source": [
        "\n",
        "for i in range(4):\n",
        "  for j in range(4-1):\n",
        "      print(i,end=\" \")\n",
        "  print()  "
      ]
    },
    {
      "cell_type": "code",
      "execution_count": null,
      "metadata": {
        "id": "NaoFZHKVuSrZ"
      },
      "outputs": [],
      "source": [
        "var= \"James Bond\"\n",
        "print(var[2::-1])"
      ]
    },
    {
      "cell_type": "code",
      "execution_count": null,
      "metadata": {
        "id": "6vzmBT-Pui1K"
      },
      "outputs": [],
      "source": [
        "salary = 8000\n",
        "\n",
        "def printSalary():\n",
        "  salary = 12000\n",
        "  print(\"Salary:\", salary)\n",
        "  \n",
        "printSalary()\n",
        "print(\"Salary:\", salary)"
      ]
    },
    {
      "cell_type": "code",
      "execution_count": null,
      "metadata": {
        "id": "QckynInlurLo"
      },
      "outputs": [],
      "source": [
        "var1 = 1\n",
        "var2 = 2\n",
        "var3 = \"3\"\n",
        "\n",
        "print(var1 + var2 + var3)\n"
      ]
    },
    {
      "cell_type": "code",
      "execution_count": null,
      "metadata": {
        "id": "qgN69Vwyu6cA"
      },
      "outputs": [],
      "source": [
        "for i in range(10, 15, 1):\n",
        "  print( i, end=', ')"
      ]
    },
    {
      "cell_type": "code",
      "execution_count": null,
      "metadata": {
        "id": "mrezjyFKvHX3"
      },
      "outputs": [],
      "source": [
        "def calculate (num1, num2=4):\n",
        "  res = num1 * num2\n",
        "  print(res)\n",
        "\n",
        "calculate(5, 6)"
      ]
    },
    {
      "cell_type": "code",
      "execution_count": null,
      "metadata": {
        "id": "0AMSez5Qvfhs"
      },
      "outputs": [],
      "source": [
        "listOne = [20, 40, 60, 80]\n",
        "listTwo = [20, 40, 60, 80]\n",
        "\n",
        "print(listOne == listTwo)\n",
        "print(listOne is listTwo)"
      ]
    },
    {
      "cell_type": "code",
      "execution_count": null,
      "metadata": {
        "id": "HzBwRm4vvsPk"
      },
      "outputs": [],
      "source": [
        "str = \"pynative\"\n",
        "print (str[1:3])"
      ]
    },
    {
      "cell_type": "code",
      "execution_count": null,
      "metadata": {
        "id": "1M1w2jVhwV4c"
      },
      "outputs": [],
      "source": [
        "x = 36 / 4 * (3 +  2) * 4 + 2\n",
        "print(x)"
      ]
    },
    {
      "cell_type": "code",
      "execution_count": null,
      "metadata": {
        "id": "ZiKcL4NLzffY"
      },
      "outputs": [],
      "source": [
        "\n",
        "4. What is the result of print(type([]) is list)"
      ]
    },
    {
      "cell_type": "code",
      "execution_count": null,
      "metadata": {
        "id": "IMsgWcyF0P2L"
      },
      "outputs": [],
      "source": [
        "x = 50\n",
        "def fun1():\n",
        "    # your code to assign global x = 20\n",
        "fun1()\n",
        "print(x) # it should print 20"
      ]
    },
    {
      "cell_type": "code",
      "execution_count": null,
      "metadata": {
        "id": "fyJZu1WSlA18"
      },
      "outputs": [],
      "source": [
        "for n in range (1,11):\n",
        "  if (n%5)==0:\n",
        "    continue\n",
        "    print()"
      ]
    },
    {
      "cell_type": "code",
      "execution_count": null,
      "metadata": {
        "id": "gEytzrhyrL2G"
      },
      "outputs": [],
      "source": [
        "str=\"hello\"\n",
        "c=0\n",
        "for x in strl:\n",
        "  if (x!=\"l\"):\n",
        "    c=c+1\n",
        "  else:\n",
        "    pass\n",
        "print(c)      "
      ]
    },
    {
      "cell_type": "code",
      "execution_count": null,
      "metadata": {
        "id": "Tv0fEQp7sj3n"
      },
      "outputs": [],
      "source": [
        "x= 1\n",
        "for i in range(5);\n",
        "x =x*i"
      ]
    },
    {
      "cell_type": "code",
      "execution_count": null,
      "metadata": {
        "id": "nXecek6KReIW"
      },
      "outputs": [],
      "source": [
        "x=4\n",
        "while x<=50:\n",
        "  print(x,end=\" \")\n",
        "  x+=4"
      ]
    },
    {
      "cell_type": "code",
      "execution_count": null,
      "metadata": {
        "id": "YPgGeA6ESgi1"
      },
      "outputs": [],
      "source": [
        "x=4\n",
        "for x <=50:\n",
        "  print(x,end=\" \")\n",
        "  x+=4"
      ]
    },
    {
      "cell_type": "code",
      "execution_count": null,
      "metadata": {
        "id": "GdEm5unXT8K0"
      },
      "outputs": [],
      "source": [
        "num =4\n",
        "for i in range(1, 50):\n",
        "   print(num, 'x', i, '=', num*i,end=\" \")"
      ]
    },
    {
      "cell_type": "code",
      "execution_count": null,
      "metadata": {
        "id": "2qwSlsmZUVv1"
      },
      "outputs": [],
      "source": [
        "i =4\n",
        "x= 1\n",
        "for i<=50:\n",
        "  print(i,end=\" \")"
      ]
    },
    {
      "cell_type": "code",
      "execution_count": null,
      "metadata": {
        "id": "M-kjIAQeHNod"
      },
      "outputs": [],
      "source": [
        "# One-dimensional array of some prime numbers\n",
        "import numpy as np\n",
        "prime_array = np.array([2,4,6,8,10])\n",
        "print(prime_array)"
      ]
    },
    {
      "cell_type": "code",
      "execution_count": null,
      "metadata": {
        "id": "mIaguC-yMBDr"
      },
      "outputs": [],
      "source": [
        "my_array = np.array([1,2.0,3,4,5,'abc'])\n",
        "print(my_array.dtype)"
      ]
    },
    {
      "cell_type": "code",
      "execution_count": null,
      "metadata": {
        "id": "GMn8roZESy8j"
      },
      "outputs": [],
      "source": [
        "names1 = ['Amir', 'Bala', 'Charlie']\n",
        "names2 = [name.lower() for name in names1]\n",
        "\n"
      ]
    },
    {
      "cell_type": "code",
      "execution_count": null,
      "metadata": {
        "id": "51gbF1GyS7Cn"
      },
      "outputs": [],
      "source": [
        "x = \"abcdef\"\n",
        "i = \"a\"\n",
        "while i in x:\n",
        "     x = x[:-1]\n",
        "     print(i, end = \" \")\n",
        "     "
      ]
    },
    {
      "cell_type": "code",
      "execution_count": null,
      "metadata": {
        "id": "Nit6F3SgXni4"
      },
      "outputs": [],
      "source": [
        "x = \"abcdef\"\n",
        "i = \"a\"\n",
        "while i in x:\n",
        "   x = x[:-1]\n",
        "   print(i, end = \" \")\n"
      ]
    },
    {
      "cell_type": "code",
      "source": [
        "# Python3 code to  calculate age in years\n",
        " \n",
        "from datetime import date\n",
        " \n",
        "def calculateAge(birthDate):\n",
        "    today = date.today()\n",
        "    age = today.year - birthDate.year - ((today.month, today.day) < (birthDate.month, birthDate.day))\n",
        "        \n",
        " \n",
        "    return age\n",
        "     \n",
        "# Driver code\n",
        "print(calculateAge(date(1995, 12, 6)), \"years\")"
      ],
      "metadata": {
        "colab": {
          "base_uri": "https://localhost:8080/"
        },
        "id": "9NZWR1Dichzw",
        "outputId": "ffe4a43f-d903-43c6-b042-f60c25634c2d"
      },
      "execution_count": null,
      "outputs": [
        {
          "output_type": "stream",
          "name": "stdout",
          "text": [
            "27 years\n"
          ]
        }
      ]
    },
    {
      "cell_type": "code",
      "source": [
        " #Write a program to print following output:\n",
        "#\n",
        "##\n",
        "###\n",
        "print('#\\n##\\n###')"
      ],
      "metadata": {
        "colab": {
          "base_uri": "https://localhost:8080/"
        },
        "id": "uySkrdSIg1sm",
        "outputId": "4b47f1fb-2c41-4662-9fdd-339e14f8340b"
      },
      "execution_count": null,
      "outputs": [
        {
          "output_type": "stream",
          "name": "stdout",
          "text": [
            "#\n",
            "##\n",
            "###\n"
          ]
        }
      ]
    },
    {
      "cell_type": "code",
      "source": [
        "print(\"Your Name\\n\\tCollege Name\\n\\t\\tCity Name\")\n"
      ],
      "metadata": {
        "colab": {
          "base_uri": "https://localhost:8080/"
        },
        "id": "871g2loij0Vd",
        "outputId": "657dc5e5-d9d9-4a3b-f9a5-a466268d331a"
      },
      "execution_count": null,
      "outputs": [
        {
          "output_type": "stream",
          "name": "stdout",
          "text": [
            "Your Name\n",
            "\tCollege Name\n",
            "\t\tCity Name\n"
          ]
        }
      ]
    },
    {
      "cell_type": "code",
      "source": [
        "print(\"    *\\n*\\t*\\n    *\")"
      ],
      "metadata": {
        "colab": {
          "base_uri": "https://localhost:8080/"
        },
        "id": "PKNkT9lGknTZ",
        "outputId": "0f37acaa-cbaa-4730-bd47-d87eafcd88cb"
      },
      "execution_count": null,
      "outputs": [
        {
          "output_type": "stream",
          "name": "stdout",
          "text": [
            "    *\n",
            "*\t*\n",
            "    *\n"
          ]
        }
      ]
    },
    {
      "cell_type": "code",
      "source": [
        "print(\"*\\t*\\n*\\t*\")"
      ],
      "metadata": {
        "colab": {
          "base_uri": "https://localhost:8080/"
        },
        "id": "m-sEl-50l62B",
        "outputId": "d11652c2-49bc-44ed-80d6-f1cb55516b86"
      },
      "execution_count": null,
      "outputs": [
        {
          "output_type": "stream",
          "name": "stdout",
          "text": [
            "*\t*\n",
            "*\t*\n"
          ]
        }
      ]
    }
  ],
  "metadata": {
    "colab": {
      "provenance": [],
      "authorship_tag": "ABX9TyOT4xO79mpwFJG6L6Pnq7P8",
      "include_colab_link": true
    },
    "kernelspec": {
      "display_name": "Python 3",
      "name": "python3"
    },
    "language_info": {
      "name": "python"
    }
  },
  "nbformat": 4,
  "nbformat_minor": 0
}